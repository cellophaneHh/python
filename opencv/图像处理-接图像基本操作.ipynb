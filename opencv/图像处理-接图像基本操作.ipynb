{
 "cells": [
  {
   "cell_type": "markdown",
   "metadata": {},
   "source": [
    "### 图像平滑"
   ]
  },
  {
   "cell_type": "code",
   "execution_count": 1,
   "metadata": {},
   "outputs": [],
   "source": [
    "import matplotlib.pyplot as plt\n",
    "import cv2"
   ]
  },
  {
   "cell_type": "code",
   "execution_count": 8,
   "metadata": {},
   "outputs": [],
   "source": [
    "img_7mvp = cv2.imread('7mvp.jpeg')\n",
    "cv2.imshow('result', img_7mvp)\n",
    "cv2.waitKey(0)\n",
    "cv2.destroyAllWindows()"
   ]
  },
  {
   "cell_type": "code",
   "execution_count": 7,
   "metadata": {},
   "outputs": [],
   "source": [
    "# 均值滤波\n",
    "# 简单的平均卷积处理, 像素所在位置的(3,3)矩阵进行求均值\n",
    "blur = cv2.blur(img_7mvp, (3, 3))\n",
    "cv2.imshow('result', blur)\n",
    "cv2.waitKey(0)\n",
    "cv2.destroyAllWindows()"
   ]
  },
  {
   "cell_type": "code",
   "execution_count": 9,
   "metadata": {},
   "outputs": [],
   "source": [
    "# 方框滤波\n",
    "# 基本和均值滤波一样，可以选择归一化\n",
    "# -1 表示和原通道值一样，不需要改  (3,3)是卷积核，normalize: True 做归一化(超过255取余,此时和均值滤波效果一致) False不做归一化(超过255取255)\n",
    "box = cv2.boxFilter(img_7mvp, -1, (3, 3), normalize=True)\n",
    "cv2.imshow('result', box)\n",
    "cv2.waitKey(0)\n",
    "cv2.destroyAllWindows()"
   ]
  },
  {
   "cell_type": "code",
   "execution_count": 10,
   "metadata": {},
   "outputs": [],
   "source": [
    "box = cv2.boxFilter(img_7mvp, -1, (3, 3), normalize=False)\n",
    "cv2.imshow('result', box)\n",
    "cv2.waitKey(0)\n",
    "cv2.destroyAllWindows()"
   ]
  },
  {
   "cell_type": "code",
   "execution_count": 14,
   "metadata": {},
   "outputs": [],
   "source": [
    "# 高斯滤波\n",
    "# 越近的权重越大，越远权重越小\n",
    "aussian = cv2.GaussianBlur(img_7mvp, (3, 3), 2)\n",
    "cv2.imshow('result', aussian)\n",
    "cv2.waitKey(0)\n",
    "cv2.destroyAllWindows()"
   ]
  },
  {
   "cell_type": "code",
   "execution_count": 18,
   "metadata": {},
   "outputs": [],
   "source": [
    "# 中值滤波, 使用中值替代\n",
    "median = cv2.medianBlur(img_7mvp, 3)\n",
    "cv2.imshow('result', median)\n",
    "cv2.waitKey(0)\n",
    "cv2.destroyAllWindows()"
   ]
  },
  {
   "cell_type": "code",
   "execution_count": 2,
   "metadata": {},
   "outputs": [],
   "source": [
    "import numpy as np"
   ]
  },
  {
   "cell_type": "code",
   "execution_count": 21,
   "metadata": {},
   "outputs": [
    {
     "name": "stdout",
     "output_type": "stream",
     "text": [
      "[[[240 212 217]\n",
      "  [236 214 217]\n",
      "  [224 215 216]\n",
      "  ...\n",
      "  [207 201 212]\n",
      "  [204 201 212]\n",
      "  [204 201 212]]\n",
      "\n",
      " [[237 216 220]\n",
      "  [231 216 218]\n",
      "  [227 224 225]\n",
      "  ...\n",
      "  [249 247 254]\n",
      "  [207 203 212]\n",
      "  [204 201 212]]\n",
      "\n",
      " [[221 218 219]\n",
      "  [224 226 226]\n",
      "  [228 240 238]\n",
      "  ...\n",
      "  [253 250 254]\n",
      "  [248 248 251]\n",
      "  [204 203 212]]\n",
      "\n",
      " ...\n",
      "\n",
      " [[232 231 235]\n",
      "  [230 231 234]\n",
      "  [247 250 252]\n",
      "  ...\n",
      "  [253 253 253]\n",
      "  [251 251 251]\n",
      "  [192 192 192]]\n",
      "\n",
      " [[219 217 221]\n",
      "  [220 218 221]\n",
      "  [232 230 232]\n",
      "  ...\n",
      "  [251 251 251]\n",
      "  [192 192 192]\n",
      "  [192 192 192]]\n",
      "\n",
      " [[220 217 221]\n",
      "  [221 218 221]\n",
      "  [233 229 232]\n",
      "  ...\n",
      "  [192 192 192]\n",
      "  [192 192 192]\n",
      "  [192 192 192]]]\n"
     ]
    }
   ],
   "source": [
    "res = np.hstack((blur, aussian, median))\n",
    "print(res)\n",
    "cv2.imshow('result', res)\n",
    "cv2.waitKey(0)\n",
    "cv2.destroyAllWindows()"
   ]
  },
  {
   "cell_type": "markdown",
   "metadata": {},
   "source": [
    "### 形态学-腐蚀操作"
   ]
  },
  {
   "cell_type": "code",
   "execution_count": 5,
   "metadata": {},
   "outputs": [],
   "source": [
    "img = cv2.imread(\"黑白色小图.png\")\n",
    "cv2.imshow('result', img)\n",
    "cv2.waitKey(0)\n",
    "cv2.destroyAllWindows()"
   ]
  },
  {
   "cell_type": "code",
   "execution_count": 9,
   "metadata": {},
   "outputs": [],
   "source": [
    "# 腐蚀操作主要用于仅有两种像素点的图片的操作，在卷积核中，如果一部分是黑的，另一部分是白色的，会置为黑色，就是说一个白点变为了黑点\n",
    "# iterations 是迭代次数，就是说腐蚀了多少次\n",
    "kernel = np.ones((3,3), np.uint8)\n",
    "erosion = cv2.erode(img, kernel, iterations=1)\n",
    "cv2.imshow('result', erosion)\n",
    "cv2.waitKey(0)\n",
    "cv2.destroyAllWindows()"
   ]
  },
  {
   "cell_type": "code",
   "execution_count": 10,
   "metadata": {},
   "outputs": [],
   "source": [
    "erosion2 = cv2.erode(img, kernel, iterations=2)\n",
    "cv2.imshow('result', erosion2)\n",
    "cv2.waitKey(0)\n",
    "cv2.destroyAllWindows()"
   ]
  },
  {
   "cell_type": "markdown",
   "metadata": {},
   "source": [
    "### 形态学-膨胀操作"
   ]
  },
  {
   "cell_type": "code",
   "execution_count": 7,
   "metadata": {},
   "outputs": [
    {
     "ename": "NameError",
     "evalue": "name 'erosion' is not defined",
     "output_type": "error",
     "traceback": [
      "\u001b[0;31m---------------------------------------------------------------------------\u001b[0m",
      "\u001b[0;31mNameError\u001b[0m                                 Traceback (most recent call last)",
      "\u001b[0;32m<ipython-input-7-85b9cb83a359>\u001b[0m in \u001b[0;36m<module>\u001b[0;34m\u001b[0m\n\u001b[1;32m      1\u001b[0m \u001b[0;31m# 腐蚀操作之后会会将图片边缘腐蚀，膨胀操作可以还原\u001b[0m\u001b[0;34m\u001b[0m\u001b[0;34m\u001b[0m\u001b[0;34m\u001b[0m\u001b[0m\n\u001b[0;32m----> 2\u001b[0;31m \u001b[0mdilate\u001b[0m \u001b[0;34m=\u001b[0m \u001b[0mcv2\u001b[0m\u001b[0;34m.\u001b[0m\u001b[0mdilate\u001b[0m\u001b[0;34m(\u001b[0m\u001b[0merosion\u001b[0m\u001b[0;34m,\u001b[0m \u001b[0mkernel\u001b[0m\u001b[0;34m,\u001b[0m \u001b[0miterations\u001b[0m\u001b[0;34m=\u001b[0m\u001b[0;36m1\u001b[0m\u001b[0;34m)\u001b[0m\u001b[0;34m\u001b[0m\u001b[0;34m\u001b[0m\u001b[0m\n\u001b[0m\u001b[1;32m      3\u001b[0m \u001b[0mcv2\u001b[0m\u001b[0;34m.\u001b[0m\u001b[0mimshow\u001b[0m\u001b[0;34m(\u001b[0m\u001b[0;34m'result'\u001b[0m\u001b[0;34m,\u001b[0m \u001b[0mdilate\u001b[0m\u001b[0;34m)\u001b[0m\u001b[0;34m\u001b[0m\u001b[0;34m\u001b[0m\u001b[0m\n\u001b[1;32m      4\u001b[0m \u001b[0mcv2\u001b[0m\u001b[0;34m.\u001b[0m\u001b[0mwaitKey\u001b[0m\u001b[0;34m(\u001b[0m\u001b[0;36m0\u001b[0m\u001b[0;34m)\u001b[0m\u001b[0;34m\u001b[0m\u001b[0;34m\u001b[0m\u001b[0m\n\u001b[1;32m      5\u001b[0m \u001b[0mcv2\u001b[0m\u001b[0;34m.\u001b[0m\u001b[0mdestroyAllWindows\u001b[0m\u001b[0;34m(\u001b[0m\u001b[0;34m)\u001b[0m\u001b[0;34m\u001b[0m\u001b[0;34m\u001b[0m\u001b[0m\n",
      "\u001b[0;31mNameError\u001b[0m: name 'erosion' is not defined"
     ]
    }
   ],
   "source": [
    "# 腐蚀操作之后会会将图片边缘腐蚀，膨胀操作可以还原\n",
    "dilate = cv2.dilate(erosion, kernel, iterations=1)\n",
    "cv2.imshow('result', dilate)\n",
    "cv2.waitKey(0)\n",
    "cv2.destroyAllWindows()"
   ]
  },
  {
   "cell_type": "code",
   "execution_count": 8,
   "metadata": {},
   "outputs": [
    {
     "ename": "NameError",
     "evalue": "name 'erosion' is not defined",
     "output_type": "error",
     "traceback": [
      "\u001b[0;31m---------------------------------------------------------------------------\u001b[0m",
      "\u001b[0;31mNameError\u001b[0m                                 Traceback (most recent call last)",
      "\u001b[0;32m<ipython-input-8-769ccde5c391>\u001b[0m in \u001b[0;36m<module>\u001b[0;34m\u001b[0m\n\u001b[0;32m----> 1\u001b[0;31m \u001b[0mdilate\u001b[0m \u001b[0;34m=\u001b[0m \u001b[0mcv2\u001b[0m\u001b[0;34m.\u001b[0m\u001b[0mdilate\u001b[0m\u001b[0;34m(\u001b[0m\u001b[0merosion\u001b[0m\u001b[0;34m,\u001b[0m \u001b[0mkernel\u001b[0m\u001b[0;34m,\u001b[0m \u001b[0miterations\u001b[0m\u001b[0;34m=\u001b[0m\u001b[0;36m6\u001b[0m\u001b[0;34m)\u001b[0m\u001b[0;34m\u001b[0m\u001b[0;34m\u001b[0m\u001b[0m\n\u001b[0m\u001b[1;32m      2\u001b[0m \u001b[0mcv2\u001b[0m\u001b[0;34m.\u001b[0m\u001b[0mimshow\u001b[0m\u001b[0;34m(\u001b[0m\u001b[0;34m'result'\u001b[0m\u001b[0;34m,\u001b[0m \u001b[0mdilate\u001b[0m\u001b[0;34m)\u001b[0m\u001b[0;34m\u001b[0m\u001b[0;34m\u001b[0m\u001b[0m\n\u001b[1;32m      3\u001b[0m \u001b[0mcv2\u001b[0m\u001b[0;34m.\u001b[0m\u001b[0mwaitKey\u001b[0m\u001b[0;34m(\u001b[0m\u001b[0;36m0\u001b[0m\u001b[0;34m)\u001b[0m\u001b[0;34m\u001b[0m\u001b[0;34m\u001b[0m\u001b[0m\n\u001b[1;32m      4\u001b[0m \u001b[0mcv2\u001b[0m\u001b[0;34m.\u001b[0m\u001b[0mdestroyAllWindows\u001b[0m\u001b[0;34m(\u001b[0m\u001b[0;34m)\u001b[0m\u001b[0;34m\u001b[0m\u001b[0;34m\u001b[0m\u001b[0m\n",
      "\u001b[0;31mNameError\u001b[0m: name 'erosion' is not defined"
     ]
    }
   ],
   "source": [
    "dilate = cv2.dilate(erosion, kernel, iterations=6)\n",
    "cv2.imshow('result', dilate)\n",
    "cv2.waitKey(0)\n",
    "cv2.destroyAllWindows()"
   ]
  },
  {
   "cell_type": "markdown",
   "metadata": {},
   "source": [
    "### 开运算和闭运算"
   ]
  },
  {
   "cell_type": "code",
   "execution_count": 11,
   "metadata": {},
   "outputs": [],
   "source": [
    "# 开： 先腐蚀，后膨胀\n",
    "img = cv2.imread('黑白色小图.png')\n",
    "\n",
    "kernel = np.ones((3,3), np.uint8)\n",
    "opening = cv2.morphologyEx(img, cv2.MORPH_OPEN, kernel)\n",
    "\n",
    "cv2.imshow('result', opening)\n",
    "cv2.waitKey(0)\n",
    "cv2.destroyAllWindows()\n"
   ]
  },
  {
   "cell_type": "code",
   "execution_count": 12,
   "metadata": {},
   "outputs": [],
   "source": [
    "# 闭： 先膨胀，再腐蚀\n",
    "img = cv2.imread('黑白色小图.png')\n",
    "\n",
    "kernel = np.ones((3,3), np.uint8)\n",
    "opening = cv2.morphologyEx(img, cv2.MORPH_CLOSE, kernel)\n",
    "\n",
    "cv2.imshow('result', opening)\n",
    "cv2.waitKey(0)\n",
    "cv2.destroyAllWindows()"
   ]
  },
  {
   "cell_type": "markdown",
   "metadata": {},
   "source": [
    "### 梯度运算"
   ]
  },
  {
   "cell_type": "code",
   "execution_count": 23,
   "metadata": {},
   "outputs": [],
   "source": [
    "# 梯度=膨胀-腐蚀, 会去掉相同的部分，剩余边界信息\n",
    "pie = cv2.imread('黑白色小图.png')\n",
    "kernel = np.ones((3, 3), np.uint8)\n",
    "dilate = cv2.dilate(pie, kernel, iterations=1)\n",
    "erosion = cv2.erode(pie, kernel, iterations=1)\n",
    "\n",
    "res = np.hstack((dilate, erosion))\n",
    "\n",
    "cv2.imshow('result', res)\n",
    "cv2.waitKey(0)\n",
    "cv2.destroyAllWindows()"
   ]
  },
  {
   "cell_type": "code",
   "execution_count": 25,
   "metadata": {},
   "outputs": [],
   "source": [
    "gradient = cv2.morphologyEx(pie, cv2.MORPH_GRADIENT, kernel)\n",
    "\n",
    "cv2.imshow('result', gradient)\n",
    "cv2.waitKey(0)\n",
    "cv2.destroyAllWindows()"
   ]
  },
  {
   "cell_type": "markdown",
   "metadata": {},
   "source": [
    "### 礼帽与黑帽\n",
    "\n",
    "- 礼帽 = 原始输入 - 开运算结果\n",
    "- 黑帽 = 闭运算 - 原始输入"
   ]
  },
  {
   "cell_type": "code",
   "execution_count": 26,
   "metadata": {},
   "outputs": [],
   "source": [
    "# 礼帽,  开运算先腐蚀后膨胀，会消除毛刺，礼帽后只剩毛刺了\n",
    "kernel = np.ones((3, 3), np.uint8)\n",
    "img = cv2.imread('黑白色小图.png')\n",
    "tophat = cv2.morphologyEx(img, cv2.MORPH_TOPHAT, kernel)\n",
    "cv2.imshow('result', tophat)\n",
    "cv2.waitKey(0)\n",
    "cv2.destroyAllWindows()"
   ]
  },
  {
   "cell_type": "code",
   "execution_count": 29,
   "metadata": {},
   "outputs": [],
   "source": [
    "# 黑帽, 闭运算先膨胀后腐蚀，会保留毛刺，黑帽之后会剩下原始内容的整体轮廓\n",
    "kernel = np.ones((7, 7), np.uint8)\n",
    "blackhat = cv2.morphologyEx(img, cv2.MORPH_BLACKHAT, kernel)\n",
    "cv2.imshow('result', blackhat)\n",
    "cv2.waitKey(0)\n",
    "cv2.destroyAllWindows()"
   ]
  },
  {
   "cell_type": "markdown",
   "metadata": {},
   "source": [
    "## 图像梯度-Sobel算子\n",
    "\n",
    "  卷积核中左减右，下减上"
   ]
  },
  {
   "cell_type": "code",
   "execution_count": 48,
   "metadata": {},
   "outputs": [],
   "source": [
    "img = cv2.imread('hb.png', cv2.IMREAD_GRAYSCALE)\n",
    "cv2.imshow('result', img)\n",
    "cv2.waitKey()\n",
    "cv2.destroyAllWindows()"
   ]
  },
  {
   "cell_type": "markdown",
   "metadata": {},
   "source": [
    "#### dst = cv2.Sobel(src, ddepth, dx, dy, ksize)\n",
    "\n",
    "- ddepth: 图像的深度\n",
    "- dx和dy分别表示水平和垂直方向, 1计算 0不计算\n",
    "- ksize是Sobel算子的大小"
   ]
  },
  {
   "cell_type": "code",
   "execution_count": 55,
   "metadata": {},
   "outputs": [],
   "source": [
    "def cv_show(name, img):\n",
    "    cv2.imshow(name, img)\n",
    "    cv2.waitKey(0)\n",
    "    cv2.destroyAllWindows()"
   ]
  },
  {
   "cell_type": "code",
   "execution_count": 56,
   "metadata": {},
   "outputs": [],
   "source": [
    "sobelx = cv2.Sobel(img, cv2.CV_64F, 1, 0, ksize=3)\n",
    "cv_show('result',sobelx)"
   ]
  },
  {
   "cell_type": "markdown",
   "metadata": {},
   "source": [
    "白到黑是正数，黑到白就是负数了，所有的负数会被截断成0, 所以要取绝对值"
   ]
  },
  {
   "cell_type": "code",
   "execution_count": 57,
   "metadata": {},
   "outputs": [],
   "source": [
    "sobelx = cv2.Sobel(img, cv2.CV_64F, 1, 0, ksize=3)\n",
    "sobelx = cv2.convertScaleAbs(sobelx)\n",
    "cv_show('result', sobelx)"
   ]
  },
  {
   "cell_type": "code",
   "execution_count": 65,
   "metadata": {},
   "outputs": [],
   "source": [
    "sobely = cv2.Sobel(img, cv2.CV_64F, 0, 1, ksize=3)\n",
    "sobely = cv2.convertScaleAbs(sobely)\n",
    "cv_show('result', sobely)"
   ]
  },
  {
   "cell_type": "markdown",
   "metadata": {},
   "source": [
    "#### 分别计算x和y，再求和"
   ]
  },
  {
   "cell_type": "code",
   "execution_count": 66,
   "metadata": {},
   "outputs": [],
   "source": [
    "sobelxy = cv2.addWeighted(sobelx, 0.5, sobely, 0.5, 0)\n",
    "cv_show('result', sobelxy)"
   ]
  },
  {
   "cell_type": "code",
   "execution_count": 60,
   "metadata": {},
   "outputs": [],
   "source": [
    "#### 不建议直接计算x和y，分别计算x和y然后加和效果比较好 "
   ]
  },
  {
   "cell_type": "code",
   "execution_count": 61,
   "metadata": {},
   "outputs": [],
   "source": [
    "sobelxy = cv2.Sobel(img,cv2.CV_64F, 1, 1, ksize=3)\n",
    "cv_show('result', sobelxy)"
   ]
  },
  {
   "cell_type": "code",
   "execution_count": 67,
   "metadata": {},
   "outputs": [],
   "source": [
    "img = cv2.imread('hb.png', cv2.IMREAD_GRAYSCALE)\n",
    "sobelx = cv2.Sobel(img, cv2.CV_64F, 1, 0, ksize=3)\n",
    "sobelx = cv2.convertScaleAbs(sobelx)\n",
    "sobely = cv2.Sobel(img, cv2.CV_64F, 0, 1, ksize=3)\n",
    "sobely = cv2.convertScaleAbs(sobely)\n",
    "sobelxy = cv2.addWeighted(sobelx, 0.5, sobely, 0.5, 0)\n",
    "cv_show('result', sobelxy)"
   ]
  },
  {
   "cell_type": "code",
   "execution_count": 68,
   "metadata": {},
   "outputs": [],
   "source": [
    "img = cv2.imread('hb.png', cv2.IMREAD_GRAYSCALE)\n",
    "\n",
    "sobelxy = cv2.Sobel(img, cv2.CV_64F, 1, 1, ksize=3)\n",
    "sobelxy = cv2.convertScaleAbs(sobelxy)\n",
    "cv_show('result', sobelxy)"
   ]
  },
  {
   "cell_type": "markdown",
   "metadata": {},
   "source": [
    "## 图像梯度-Scharr算子\n",
    "\n",
    "    计算方法和Sobel一致，只是比Sobel更明显一些, 一些Sobel不计算的地方也能显示出来\n",
    "    \n",
    "## 图像梯度-laplacian算子-一般不单独使用\n",
    "\n",
    "    二阶导数。。。。不懂\n",
    "    计算方法-边缘点(上下左右) - 4 * 中心点"
   ]
  },
  {
   "cell_type": "code",
   "execution_count": 75,
   "metadata": {},
   "outputs": [],
   "source": [
    "img = cv2.imread('黑白色小图.png', cv2.IMREAD_GRAYSCALE)\n",
    "\n",
    "\n",
    "sobelx = cv2.Sobel(img, cv2.CV_64F, 1, 0, ksize=3)\n",
    "sobelx = cv2.convertScaleAbs(sobelx)\n",
    "sobely = cv2.Sobel(img, cv2.CV_64F, 0, 1, ksize=3)\n",
    "sobely = cv2.convertScaleAbs(sobely)\n",
    "sobelxy = cv2.addWeighted(sobelx, 0.5, sobely, 0.5, 0)\n",
    "\n",
    "\n",
    "scharrx = cv2.Scharr(img, cv2.CV_64F, 1, 0)\n",
    "scharrx = cv2.convertScaleAbs(scharrx)\n",
    "scharry = cv2.Scharr(img, cv2.CV_64F, 0, 1)\n",
    "scharry = cv2.convertScaleAbs(scharrx)\n",
    "scharrxy = cv2.addWeighted(scharrx, 0.5, scharry, 0.5, 0)\n",
    "\n",
    "laplacian = cv2.Laplacian(img, cv2.CV_64F)\n",
    "laplacian = cv2.convertScaleAbs(laplacian)\n",
    "\n",
    "res = np.hstack((img, sobelxy, scharrxy, laplacian))\n",
    "cv_show('result', res)\n"
   ]
  },
  {
   "cell_type": "markdown",
   "metadata": {},
   "source": [
    "## Canny边缘检测\n",
    "\n",
    "- 1) 使用高斯滤波，以平滑图像，滤除噪声\n",
    "- 2) 计算图像中每个像素点的梯度强度和方向。(使用的是Sobel算子)\n",
    "- 3) 应用非极大值抑制，以消除边缘检测带来的杂散响应\n",
    "- 4) 应用双阈值检测来确定真实的和潜在的边缘\n",
    "- 5) 通过抑制孤立的弱边缘最终完成边缘检测"
   ]
  },
  {
   "cell_type": "code",
   "execution_count": null,
   "metadata": {},
   "outputs": [],
   "source": []
  }
 ],
 "metadata": {
  "kernelspec": {
   "display_name": "Python 3",
   "language": "python",
   "name": "python3"
  },
  "language_info": {
   "codemirror_mode": {
    "name": "ipython",
    "version": 3
   },
   "file_extension": ".py",
   "mimetype": "text/x-python",
   "name": "python",
   "nbconvert_exporter": "python",
   "pygments_lexer": "ipython3",
   "version": "3.7.4"
  }
 },
 "nbformat": 4,
 "nbformat_minor": 2
}

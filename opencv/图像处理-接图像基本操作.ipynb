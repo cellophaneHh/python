{
 "cells": [
  {
   "cell_type": "markdown",
   "metadata": {},
   "source": [
    "### 图像平滑"
   ]
  },
  {
   "cell_type": "code",
   "execution_count": 2,
   "metadata": {},
   "outputs": [],
   "source": [
    "import matplotlib.pyplot as plt\n",
    "import cv2"
   ]
  },
  {
   "cell_type": "code",
   "execution_count": 8,
   "metadata": {},
   "outputs": [],
   "source": [
    "img_7mvp = cv2.imread('7mvp.jpeg')\n",
    "cv2.imshow('result', img_7mvp)\n",
    "cv2.waitKey(0)\n",
    "cv2.destroyAllWindows()"
   ]
  },
  {
   "cell_type": "code",
   "execution_count": 7,
   "metadata": {},
   "outputs": [],
   "source": [
    "# 均值滤波\n",
    "# 简单的平均卷积处理, 像素所在位置的(3,3)矩阵进行求均值\n",
    "blur = cv2.blur(img_7mvp, (3, 3))\n",
    "cv2.imshow('result', blur)\n",
    "cv2.waitKey(0)\n",
    "cv2.destroyAllWindows()"
   ]
  },
  {
   "cell_type": "code",
   "execution_count": 9,
   "metadata": {},
   "outputs": [],
   "source": [
    "# 方框滤波\n",
    "# 基本和均值滤波一样，可以选择归一化\n",
    "# -1 表示和原通道值一样，不需要改  (3,3)是卷积核，normalize: True 做归一化(超过255取余,此时和均值滤波效果一致) False不做归一化(超过255取255)\n",
    "box = cv2.boxFilter(img_7mvp, -1, (3, 3), normalize=True)\n",
    "cv2.imshow('result', box)\n",
    "cv2.waitKey(0)\n",
    "cv2.destroyAllWindows()"
   ]
  },
  {
   "cell_type": "code",
   "execution_count": 10,
   "metadata": {},
   "outputs": [],
   "source": [
    "box = cv2.boxFilter(img_7mvp, -1, (3, 3), normalize=False)\n",
    "cv2.imshow('result', box)\n",
    "cv2.waitKey(0)\n",
    "cv2.destroyAllWindows()"
   ]
  },
  {
   "cell_type": "code",
   "execution_count": 14,
   "metadata": {},
   "outputs": [],
   "source": [
    "# 高斯滤波\n",
    "# 越近的权重越大，越远权重越小\n",
    "aussian = cv2.GaussianBlur(img_7mvp, (3, 3), 2)\n",
    "cv2.imshow('result', aussian)\n",
    "cv2.waitKey(0)\n",
    "cv2.destroyAllWindows()"
   ]
  },
  {
   "cell_type": "code",
   "execution_count": 18,
   "metadata": {},
   "outputs": [],
   "source": [
    "# 中值滤波, 使用中值替代\n",
    "median = cv2.medianBlur(img_7mvp, 3)\n",
    "cv2.imshow('result', median)\n",
    "cv2.waitKey(0)\n",
    "cv2.destroyAllWindows()"
   ]
  },
  {
   "cell_type": "code",
   "execution_count": 19,
   "metadata": {},
   "outputs": [],
   "source": [
    "import numpy as np"
   ]
  },
  {
   "cell_type": "code",
   "execution_count": 21,
   "metadata": {},
   "outputs": [
    {
     "name": "stdout",
     "output_type": "stream",
     "text": [
      "[[[240 212 217]\n",
      "  [236 214 217]\n",
      "  [224 215 216]\n",
      "  ...\n",
      "  [207 201 212]\n",
      "  [204 201 212]\n",
      "  [204 201 212]]\n",
      "\n",
      " [[237 216 220]\n",
      "  [231 216 218]\n",
      "  [227 224 225]\n",
      "  ...\n",
      "  [249 247 254]\n",
      "  [207 203 212]\n",
      "  [204 201 212]]\n",
      "\n",
      " [[221 218 219]\n",
      "  [224 226 226]\n",
      "  [228 240 238]\n",
      "  ...\n",
      "  [253 250 254]\n",
      "  [248 248 251]\n",
      "  [204 203 212]]\n",
      "\n",
      " ...\n",
      "\n",
      " [[232 231 235]\n",
      "  [230 231 234]\n",
      "  [247 250 252]\n",
      "  ...\n",
      "  [253 253 253]\n",
      "  [251 251 251]\n",
      "  [192 192 192]]\n",
      "\n",
      " [[219 217 221]\n",
      "  [220 218 221]\n",
      "  [232 230 232]\n",
      "  ...\n",
      "  [251 251 251]\n",
      "  [192 192 192]\n",
      "  [192 192 192]]\n",
      "\n",
      " [[220 217 221]\n",
      "  [221 218 221]\n",
      "  [233 229 232]\n",
      "  ...\n",
      "  [192 192 192]\n",
      "  [192 192 192]\n",
      "  [192 192 192]]]\n"
     ]
    }
   ],
   "source": [
    "res = np.hstack((blur, aussian, median))\n",
    "print(res)\n",
    "cv2.imshow('result', res)\n",
    "cv2.waitKey(0)\n",
    "cv2.destroyAllWindows()"
   ]
  },
  {
   "cell_type": "markdown",
   "metadata": {},
   "source": [
    "### 形态学-腐蚀操作"
   ]
  },
  {
   "cell_type": "code",
   "execution_count": 23,
   "metadata": {},
   "outputs": [],
   "source": [
    "img = cv2.imread(\"黑白色小图.png\")\n",
    "cv2.imshow('result', img)\n",
    "cv2.waitKey(0)\n",
    "cv2.destroyAllWindows()"
   ]
  },
  {
   "cell_type": "code",
   "execution_count": 25,
   "metadata": {},
   "outputs": [],
   "source": [
    "# 腐蚀操作主要用于仅有两种像素点的图片的操作，在卷积核中，如果一部分是黑的，另一部分是白色的，会置为黑色，就是说一个白点变为了黑点\n",
    "# iterations 是迭代次数，就是说腐蚀了多少次\n",
    "kernel = np.ones((3,3), np.uint8)\n",
    "erosion = cv2.erode(img, kernel, iterations=1)\n",
    "cv2.imshow('result', erosion)\n",
    "cv2.waitKey(0)\n",
    "cv2.destroyAllWindows()"
   ]
  },
  {
   "cell_type": "code",
   "execution_count": 26,
   "metadata": {},
   "outputs": [],
   "source": [
    "erosion2 = cv2.erode(img, kernel, iterations=2)\n",
    "cv2.imshow('result', erosion2)\n",
    "cv2.waitKey(0)\n",
    "cv2.destroyAllWindows()"
   ]
  },
  {
   "cell_type": "markdown",
   "metadata": {},
   "source": [
    "### 形态学-膨胀操作"
   ]
  },
  {
   "cell_type": "code",
   "execution_count": 27,
   "metadata": {},
   "outputs": [],
   "source": [
    "# 腐蚀操作之后会会将图片边缘腐蚀，膨胀操作可以还原\n",
    "dilate = cv2.dilate(erosion, kernel, iterations=1)\n",
    "cv2.imshow('result', dilate)\n",
    "cv2.waitKey(0)\n",
    "cv2.destroyAllWindows()"
   ]
  },
  {
   "cell_type": "code",
   "execution_count": 30,
   "metadata": {},
   "outputs": [],
   "source": [
    "dilate = cv2.dilate(erosion, kernel, iterations=6)\n",
    "cv2.imshow('result', dilate)\n",
    "cv2.waitKey(0)\n",
    "cv2.destroyAllWindows()"
   ]
  },
  {
   "cell_type": "markdown",
   "metadata": {},
   "source": [
    "### 开运算和闭运算"
   ]
  },
  {
   "cell_type": "code",
   "execution_count": 32,
   "metadata": {},
   "outputs": [],
   "source": [
    "# 开： 先腐蚀，后膨胀\n",
    "img = cv2.imread('黑白色小图.png')\n",
    "\n",
    "kernel = np.ones((3,3), np.uint8)\n",
    "opening = cv2.morphologyEx(img, cv2.MORPH_OPEN, kernel)\n",
    "\n",
    "cv2.imshow('result', opening)\n",
    "cv2.waitKey(0)\n",
    "cv2.destroyAllWindows()"
   ]
  },
  {
   "cell_type": "code",
   "execution_count": 33,
   "metadata": {},
   "outputs": [],
   "source": [
    "# 闭： 先膨胀，再腐蚀\n",
    "img = cv2.imread('黑白色小图.png')\n",
    "\n",
    "kernel = np.ones((3,3), np.uint8)\n",
    "opening = cv2.morphologyEx(img, cv2.MORPH_CLOSE, kernel)\n",
    "\n",
    "cv2.imshow('result', opening)\n",
    "cv2.waitKey(0)\n",
    "cv2.destroyAllWindows()"
   ]
  },
  {
   "cell_type": "code",
   "execution_count": null,
   "metadata": {},
   "outputs": [],
   "source": []
  }
 ],
 "metadata": {
  "kernelspec": {
   "display_name": "Python 3",
   "language": "python",
   "name": "python3"
  },
  "language_info": {
   "codemirror_mode": {
    "name": "ipython",
    "version": 3
   },
   "file_extension": ".py",
   "mimetype": "text/x-python",
   "name": "python",
   "nbconvert_exporter": "python",
   "pygments_lexer": "ipython3",
   "version": "3.7.4"
  }
 },
 "nbformat": 4,
 "nbformat_minor": 2
}

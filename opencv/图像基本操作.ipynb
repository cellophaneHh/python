{
 "cells": [
  {
   "cell_type": "markdown",
   "metadata": {},
   "source": [
    "# 图像处理"
   ]
  },
  {
   "cell_type": "markdown",
   "metadata": {},
   "source": [
    "### 数据读取-图像\n",
    "\n",
    "- cv2.IMREAD_COLOR 彩色图像\n",
    "- cv2.IMREAD_GRAYSCALE 灰度图像"
   ]
  },
  {
   "cell_type": "code",
   "execution_count": 1,
   "metadata": {},
   "outputs": [],
   "source": [
    "import cv2  # opencv 读取格式是bgr\n",
    "import matplotlib.pyplot as plt\n",
    "import numpy as np\n",
    "\n",
    "img = cv2.imread('7mvp.jpeg')"
   ]
  },
  {
   "cell_type": "code",
   "execution_count": 2,
   "metadata": {},
   "outputs": [
    {
     "data": {
      "text/plain": [
       "array([[[220, 176, 183],\n",
       "        [238, 202, 208],\n",
       "        [196, 180, 181],\n",
       "        ...,\n",
       "        [194, 186, 196],\n",
       "        [207, 201, 212],\n",
       "        [181, 177, 188]],\n",
       "\n",
       "       [[224, 192, 197],\n",
       "        [255, 237, 241],\n",
       "        [255, 255, 254],\n",
       "        ...,\n",
       "        [255, 248, 255],\n",
       "        [249, 246, 255],\n",
       "        [204, 203, 212]],\n",
       "\n",
       "       [[197, 191, 192],\n",
       "        [253, 255, 255],\n",
       "        [239, 255, 255],\n",
       "        ...,\n",
       "        [255, 254, 255],\n",
       "        [248, 250, 251],\n",
       "        [186, 190, 191]],\n",
       "\n",
       "       ...,\n",
       "\n",
       "       [[197, 196, 200],\n",
       "        [247, 248, 252],\n",
       "        [247, 251, 252],\n",
       "        ...,\n",
       "        [251, 251, 251],\n",
       "        [251, 251, 251],\n",
       "        [192, 192, 192]],\n",
       "\n",
       "       [[193, 192, 196],\n",
       "        [251, 250, 254],\n",
       "        [255, 254, 255],\n",
       "        ...,\n",
       "        [250, 250, 250],\n",
       "        [255, 255, 255],\n",
       "        [192, 192, 192]],\n",
       "\n",
       "       [[194, 191, 193],\n",
       "        [196, 191, 193],\n",
       "        [199, 190, 193],\n",
       "        ...,\n",
       "        [192, 192, 192],\n",
       "        [192, 192, 192],\n",
       "        [192, 192, 192]]], dtype=uint8)"
      ]
     },
     "execution_count": 2,
     "metadata": {},
     "output_type": "execute_result"
    }
   ],
   "source": [
    "img"
   ]
  },
  {
   "cell_type": "code",
   "execution_count": 3,
   "metadata": {},
   "outputs": [],
   "source": [
    "# 显示图像，也可以创建多个窗口\n",
    "cv2.imshow('image', img)\n",
    "# 等待时间，ms，如果为0表示按任意键消失\n",
    "cv2.waitKey(0)\n",
    "cv2.destroyAllWindows()"
   ]
  },
  {
   "cell_type": "code",
   "execution_count": 4,
   "metadata": {},
   "outputs": [
    {
     "data": {
      "text/plain": [
       "(25, 64, 3)"
      ]
     },
     "execution_count": 4,
     "metadata": {},
     "output_type": "execute_result"
    }
   ],
   "source": [
    "img.shape"
   ]
  },
  {
   "cell_type": "code",
   "execution_count": 5,
   "metadata": {},
   "outputs": [
    {
     "data": {
      "text/plain": [
       "array([[183, 208, 182, ..., 190, 205, 181],\n",
       "       [197, 241, 255, ..., 251, 249, 206],\n",
       "       [192, 255, 255, ..., 255, 250, 190],\n",
       "       ...,\n",
       "       [197, 249, 251, ..., 251, 251, 192],\n",
       "       [193, 251, 255, ..., 250, 255, 192],\n",
       "       [192, 192, 192, ..., 192, 192, 192]], dtype=uint8)"
      ]
     },
     "execution_count": 5,
     "metadata": {},
     "output_type": "execute_result"
    }
   ],
   "source": [
    "img = cv2.imread('7mvp.jpeg', cv2.IMREAD_GRAYSCALE)\n",
    "img"
   ]
  },
  {
   "cell_type": "code",
   "execution_count": 6,
   "metadata": {},
   "outputs": [
    {
     "data": {
      "text/plain": [
       "(25, 64)"
      ]
     },
     "execution_count": 6,
     "metadata": {},
     "output_type": "execute_result"
    }
   ],
   "source": [
    "img.shape"
   ]
  },
  {
   "cell_type": "code",
   "execution_count": 7,
   "metadata": {},
   "outputs": [],
   "source": [
    "cv2.imshow('image', img)\n",
    "cv2.waitKey(0)\n",
    "cv2.destroyAllWindows()"
   ]
  },
  {
   "cell_type": "code",
   "execution_count": 8,
   "metadata": {},
   "outputs": [
    {
     "data": {
      "text/plain": [
       "True"
      ]
     },
     "execution_count": 8,
     "metadata": {},
     "output_type": "execute_result"
    }
   ],
   "source": [
    "# 保存\n",
    "cv2.imwrite('gray7mvp.jpeg', img)"
   ]
  },
  {
   "cell_type": "code",
   "execution_count": 9,
   "metadata": {},
   "outputs": [
    {
     "data": {
      "text/plain": [
       "numpy.ndarray"
      ]
     },
     "execution_count": 9,
     "metadata": {},
     "output_type": "execute_result"
    }
   ],
   "source": [
    "type(img)"
   ]
  },
  {
   "cell_type": "code",
   "execution_count": 10,
   "metadata": {},
   "outputs": [
    {
     "data": {
      "text/plain": [
       "1600"
      ]
     },
     "execution_count": 10,
     "metadata": {},
     "output_type": "execute_result"
    }
   ],
   "source": [
    "img.size"
   ]
  },
  {
   "cell_type": "code",
   "execution_count": 11,
   "metadata": {},
   "outputs": [
    {
     "data": {
      "text/plain": [
       "dtype('uint8')"
      ]
     },
     "execution_count": 11,
     "metadata": {},
     "output_type": "execute_result"
    }
   ],
   "source": [
    "img.dtype"
   ]
  },
  {
   "cell_type": "markdown",
   "metadata": {},
   "source": [
    "### 数据读取-视频\n",
    "- cv2.VideoCapture可以捕获摄像头，用数字来控制不同的设备，例如0,1。\n",
    "- 如果是视频文件，直接指定好路径即可"
   ]
  },
  {
   "cell_type": "code",
   "execution_count": 19,
   "metadata": {},
   "outputs": [],
   "source": [
    "video = cv2.VideoCapture(\"./test.flv\")"
   ]
  },
  {
   "cell_type": "code",
   "execution_count": 20,
   "metadata": {},
   "outputs": [],
   "source": [
    "# 检查是否打开正确\n",
    "if video.isOpened():\n",
    "    open, frame = video.read()\n",
    "else:\n",
    "    open = False"
   ]
  },
  {
   "cell_type": "code",
   "execution_count": 21,
   "metadata": {},
   "outputs": [],
   "source": [
    "while open:\n",
    "    ret, frame = video.read()\n",
    "    if frame is None:\n",
    "        break\n",
    "    if ret == True:\n",
    "        gray = cv2.cvtColor(frame, cv2.COLOR_BGR2GRAY)\n",
    "        cv2.imshow('result', gray)\n",
    "        if cv2.waitKey(100) & 0xFF == 27:\n",
    "            break\n",
    "video.release()\n",
    "cv2.destroyAllWindows()"
   ]
  },
  {
   "cell_type": "markdown",
   "metadata": {},
   "source": [
    "### 截取部分图像数据"
   ]
  },
  {
   "cell_type": "code",
   "execution_count": 23,
   "metadata": {},
   "outputs": [],
   "source": [
    "img = cv2.imread('7mvp.jpeg')\n",
    "split = img[0:10, 0:30]\n",
    "cv2.imshow('result', split)\n",
    "cv2.waitKey(0)\n",
    "cv2.destroyAllWindows()"
   ]
  },
  {
   "cell_type": "markdown",
   "metadata": {},
   "source": [
    "### 颜色通道提取"
   ]
  },
  {
   "cell_type": "code",
   "execution_count": 24,
   "metadata": {},
   "outputs": [],
   "source": [
    "b,g,r = cv2.split(img)"
   ]
  },
  {
   "cell_type": "code",
   "execution_count": 27,
   "metadata": {},
   "outputs": [
    {
     "data": {
      "text/plain": [
       "array([[176, 202, 180, ..., 186, 201, 177],\n",
       "       [192, 237, 255, ..., 248, 246, 203],\n",
       "       [191, 255, 255, ..., 254, 250, 190],\n",
       "       ...,\n",
       "       [196, 248, 251, ..., 251, 251, 192],\n",
       "       [192, 250, 254, ..., 250, 255, 192],\n",
       "       [191, 191, 190, ..., 192, 192, 192]], dtype=uint8)"
      ]
     },
     "execution_count": 27,
     "metadata": {},
     "output_type": "execute_result"
    }
   ],
   "source": [
    "g"
   ]
  },
  {
   "cell_type": "code",
   "execution_count": 28,
   "metadata": {},
   "outputs": [
    {
     "data": {
      "text/plain": [
       "(25, 64)"
      ]
     },
     "execution_count": 28,
     "metadata": {},
     "output_type": "execute_result"
    }
   ],
   "source": [
    "g.shape"
   ]
  },
  {
   "cell_type": "code",
   "execution_count": 30,
   "metadata": {},
   "outputs": [
    {
     "data": {
      "text/plain": [
       "(25, 64, 3)"
      ]
     },
     "execution_count": 30,
     "metadata": {},
     "output_type": "execute_result"
    }
   ],
   "source": [
    "# 合并通道\n",
    "img = cv2.merge((b,g,r))\n",
    "img.shape"
   ]
  },
  {
   "cell_type": "code",
   "execution_count": 31,
   "metadata": {},
   "outputs": [],
   "source": [
    "# 只保留r通道\n",
    "cur_img = img.copy()\n",
    "cur_img[:,:,0] = 0\n",
    "cur_img[:,:,1] = 0\n",
    "cv2.imshow('result', cur_img)\n",
    "cv2.waitKey(0)\n",
    "cv2.destroyAllWindows()"
   ]
  },
  {
   "cell_type": "code",
   "execution_count": 32,
   "metadata": {},
   "outputs": [],
   "source": [
    "# 只保留b通道\n",
    "cur_img = img.copy()\n",
    "cur_img[:,:,1] = 0\n",
    "cur_img[:,:,2] = 0\n",
    "cv2.imshow('result', cur_img)\n",
    "cv2.waitKey(0)\n",
    "cv2.destroyAllWindows()"
   ]
  },
  {
   "cell_type": "code",
   "execution_count": 34,
   "metadata": {},
   "outputs": [],
   "source": [
    "# 只保留g通道\n",
    "cur_img = img.copy()\n",
    "cur_img[:,:,0] = 0\n",
    "cur_img[:,:,2] = 0\n",
    "cv2.imshow('result', cur_img)\n",
    "cv2.waitKey(0)\n",
    "cv2.destroyAllWindows()"
   ]
  },
  {
   "cell_type": "markdown",
   "metadata": {},
   "source": [
    "### 边界填充"
   ]
  },
  {
   "cell_type": "code",
   "execution_count": 40,
   "metadata": {},
   "outputs": [],
   "source": [
    "top_size, bottom_size,left_size,right_size=(10,10,10,10)\n",
    "replicate = cv2.copyMakeBorder(img, top_size, bottom_size, left_size, right_size, borderType=cv2.BORDER_REPLICATE)\n",
    "reflect = cv2.copyMakeBorder(img, top_size, bottom_size, left_size, right_size, borderType=cv2.BORDER_REFLECT)\n",
    "reflect101 = cv2.copyMakeBorder(img, top_size, bottom_size, left_size, right_size, borderType=cv2.BORDER_REFLECT_101)\n",
    "wrap = cv2.copyMakeBorder(img, top_size, bottom_size, left_size, right_size, borderType=cv2.BORDER_WRAP)\n",
    "constant = cv2.copyMakeBorder(img, top_size, bottom_size, left_size, right_size, borderType=cv2.BORDER_CONSTANT, value=0)"
   ]
  },
  {
   "cell_type": "code",
   "execution_count": 41,
   "metadata": {},
   "outputs": [
    {
     "data": {
      "image/png": "[encoded data removed]",
      "text/plain": [
       "<Figure size 432x288 with 6 Axes>"
      ]
     },
     "metadata": {
      "needs_background": "light"
     },
     "output_type": "display_data"
    }
   ],
   "source": [
    "import matplotlib.pyplot as plt\n",
    "plt.subplot(231), plt.imshow(img, 'gray'), plt.title('original')\n",
    "plt.subplot(232), plt.imshow(replicate, 'gray'), plt.title('replicate')\n",
    "plt.subplot(233), plt.imshow(reflect, 'gray'), plt.title('reflect')\n",
    "plt.subplot(234), plt.imshow(reflect101, 'gray'), plt.title('reflect101')\n",
    "plt.subplot(235), plt.imshow(wrap, 'gray'), plt.title('wrap')\n",
    "plt.subplot(236), plt.imshow(constant, 'gray'), plt.title('constant')\n",
    "\n",
    "plt.show()"
   ]
  },
  {
   "cell_type": "markdown",
   "metadata": {},
   "source": [
    "- BORDER_REPLICATE: 复制法，也就是复制最边缘像素\n",
    "- BORDER_REFLECT: 反射法，对感兴趣的图像中的像素在两边进行复制，例如： fedcba|abcdefgh|hgfedbca\n",
    "- BORDER_REFLECT_101: 反射法, 也就是以最边缘像素为轴，对称, gfedcb|abcdefgh|gfedcba\n",
    "- BORDER_WRAP: 外包装法 cdefgh|abcdefgh|abcdefg\n",
    "- BORDER_CONSTANT: 常量法，常数值填充"
   ]
  },
  {
   "cell_type": "markdown",
   "metadata": {},
   "source": [
    "### 数值填充"
   ]
  },
  {
   "cell_type": "code",
   "execution_count": 42,
   "metadata": {},
   "outputs": [],
   "source": [
    "img_7mvp = cv2.imread('7mvp.jpeg')\n",
    "img_edct = cv2.imread('edct.jpeg')"
   ]
  },
  {
   "cell_type": "code",
   "execution_count": 44,
   "metadata": {},
   "outputs": [
    {
     "data": {
      "text/plain": [
       "array([[220, 238, 196, 188, 196],\n",
       "       [224, 255, 255, 185, 225],\n",
       "       [197, 253, 239, 234, 196],\n",
       "       [178, 189, 222, 217, 237],\n",
       "       [188, 224, 151, 174, 241]], dtype=uint8)"
      ]
     },
     "execution_count": 44,
     "metadata": {},
     "output_type": "execute_result"
    }
   ],
   "source": [
    "img_7mvp2 = img_7mvp + 10\n",
    "img_7mvp[:5, :5, 0]"
   ]
  },
  {
   "cell_type": "code",
   "execution_count": 45,
   "metadata": {},
   "outputs": [
    {
     "data": {
      "text/plain": [
       "array([[230, 248, 206, 198, 206],\n",
       "       [234,   9,   9, 195, 235],\n",
       "       [207,   7, 249, 244, 206],\n",
       "       [188, 199, 232, 227, 247],\n",
       "       [198, 234, 161, 184, 251]], dtype=uint8)"
      ]
     },
     "execution_count": 45,
     "metadata": {},
     "output_type": "execute_result"
    }
   ],
   "source": [
    "img_7mvp2[:5,:5,0]"
   ]
  },
  {
   "cell_type": "code",
   "execution_count": 47,
   "metadata": {},
   "outputs": [
    {
     "data": {
      "text/plain": [
       "array([[132, 174, 143, 134, 171, 129, 116,  91, 106, 114, 135, 142, 126,\n",
       "        128,  90, 121, 125, 131, 104,  90, 100, 112, 139, 144, 128, 116,\n",
       "         86, 115, 155, 159, 105, 122, 143, 133, 128, 109, 131, 139, 107,\n",
       "        121, 115, 110, 148, 101, 137, 115, 117, 107, 110, 132, 120, 132,\n",
       "        114, 104, 106, 126, 136, 125, 133, 130, 119, 116, 150, 103],\n",
       "       [126, 226, 254, 184, 224, 245, 166, 183, 212, 238, 241, 247, 245,\n",
       "        232, 238, 211, 196, 243, 228, 170, 159, 236, 254, 254, 250, 221,\n",
       "        237, 247, 251, 191, 212, 168, 242, 233, 242, 218, 231, 247, 247,\n",
       "        250, 234, 218, 229, 247, 249, 240, 229, 223, 245, 235, 233, 227,\n",
       "        241, 192, 235, 224, 242, 235, 245, 246, 249, 247, 233, 134],\n",
       "       [124, 234, 230, 233, 195, 179, 212, 182, 142, 194, 232, 206, 227,\n",
       "        237, 237, 186, 248, 254, 248, 249, 244, 198, 159, 176, 188, 171,\n",
       "        249, 179, 143, 191, 252, 201, 213, 228, 232, 240, 245, 237, 247,\n",
       "        239, 218, 239, 245, 252, 245, 252, 245, 244, 254, 254, 248, 212,\n",
       "        238, 174, 248, 250, 251, 252, 252, 252, 254, 251, 246, 128],\n",
       "       [109, 184, 214, 212, 236, 238, 212, 254, 252, 174, 111, 121, 167,\n",
       "        189, 254, 198, 254, 254, 243, 243, 254, 246, 228, 210, 201, 254,\n",
       "        115, 145, 142, 126, 136, 189, 254, 240, 242, 228, 227, 243, 245,\n",
       "        252, 247, 165, 249, 190, 217, 248, 249, 200, 237, 183, 180, 254,\n",
       "        228, 197, 246, 254, 253, 254, 245, 236, 250, 252, 244, 113],\n",
       "       [151, 223, 145, 158, 216, 246, 250, 227, 194, 186, 158, 169, 184,\n",
       "        163, 188, 211, 209, 211, 207, 183, 189, 184, 166, 155, 178, 205,\n",
       "        198, 231, 166, 218, 250, 244, 184, 200, 170, 179, 187, 200, 238,\n",
       "        194, 180, 243, 186, 209, 197, 237, 243, 200, 190, 254, 254, 243,\n",
       "        192, 243, 251, 254, 244, 254, 254, 254, 251, 250, 249, 127]],\n",
       "      dtype=uint8)"
      ]
     },
     "execution_count": 47,
     "metadata": {},
     "output_type": "execute_result"
    }
   ],
   "source": [
    "# 超过255会返回  % 256  的余数\n",
    "(img_7mvp + img_edct)[:5, :, 0]"
   ]
  },
  {
   "cell_type": "code",
   "execution_count": 48,
   "metadata": {},
   "outputs": [
    {
     "data": {
      "text/plain": [
       "array([[255, 255, 255, 255, 255, 255, 255, 255, 255, 255, 255, 255, 255,\n",
       "        255, 255, 255, 255, 255, 255, 255, 255, 255, 255, 255, 255, 255,\n",
       "        255, 255, 255, 255, 255, 255, 255, 255, 255, 255, 255, 255, 255,\n",
       "        255, 255, 255, 255, 255, 255, 255, 255, 255, 255, 255, 255, 255,\n",
       "        255, 255, 255, 255, 255, 255, 255, 255, 255, 255, 255, 255],\n",
       "       [255, 255, 255, 255, 255, 255, 255, 255, 255, 255, 255, 255, 255,\n",
       "        255, 255, 255, 255, 255, 255, 255, 255, 255, 255, 255, 255, 255,\n",
       "        255, 255, 255, 255, 255, 255, 255, 255, 255, 255, 255, 255, 255,\n",
       "        255, 255, 255, 255, 255, 255, 255, 255, 255, 255, 255, 255, 255,\n",
       "        255, 255, 255, 255, 255, 255, 255, 255, 255, 255, 255, 255],\n",
       "       [255, 255, 255, 255, 255, 255, 255, 255, 255, 255, 255, 255, 255,\n",
       "        255, 255, 255, 255, 255, 255, 255, 255, 255, 255, 255, 255, 255,\n",
       "        255, 255, 255, 255, 255, 255, 255, 255, 255, 255, 255, 255, 255,\n",
       "        255, 255, 255, 255, 255, 255, 255, 255, 255, 255, 255, 255, 255,\n",
       "        255, 255, 255, 255, 255, 255, 255, 255, 255, 255, 255, 255],\n",
       "       [255, 255, 255, 255, 255, 255, 255, 255, 255, 255, 255, 255, 255,\n",
       "        255, 255, 255, 255, 255, 255, 255, 255, 255, 255, 255, 255, 255,\n",
       "        255, 255, 255, 255, 255, 255, 255, 255, 255, 255, 255, 255, 255,\n",
       "        255, 255, 255, 255, 255, 255, 255, 255, 255, 255, 255, 255, 255,\n",
       "        255, 255, 255, 255, 255, 255, 255, 255, 255, 255, 255, 255],\n",
       "       [255, 255, 255, 255, 255, 255, 255, 255, 255, 255, 255, 255, 255,\n",
       "        255, 255, 255, 255, 255, 255, 255, 255, 255, 255, 255, 255, 255,\n",
       "        255, 255, 255, 255, 255, 255, 255, 255, 255, 255, 255, 255, 255,\n",
       "        255, 255, 255, 255, 255, 255, 255, 255, 255, 255, 255, 255, 255,\n",
       "        255, 255, 255, 255, 255, 255, 255, 255, 255, 255, 255, 255]],\n",
       "      dtype=uint8)"
      ]
     },
     "execution_count": 48,
     "metadata": {},
     "output_type": "execute_result"
    }
   ],
   "source": [
    "## cv2中add方法不会取余，如果大于255,则取255\n",
    "cv2.add(img_7mvp, img_edct)[:5, :, 0]"
   ]
  },
  {
   "cell_type": "markdown",
   "metadata": {},
   "source": [
    "### 图像融合"
   ]
  },
  {
   "cell_type": "code",
   "execution_count": 49,
   "metadata": {},
   "outputs": [
    {
     "data": {
      "text/plain": [
       "array([[[132, 122, 118],\n",
       "        [174, 157, 154],\n",
       "        [143, 113, 115],\n",
       "        ...,\n",
       "        [116, 114, 129],\n",
       "        [150, 151, 165],\n",
       "        [103, 106, 120]],\n",
       "\n",
       "       [[126, 124, 118],\n",
       "        [226, 226, 223],\n",
       "        [254, 253, 252],\n",
       "        ...,\n",
       "        [247, 245, 254],\n",
       "        [233, 235, 245],\n",
       "        [134, 138, 148]],\n",
       "\n",
       "       [[124, 141, 134],\n",
       "        [234, 254, 247],\n",
       "        [230, 251, 249],\n",
       "        ...,\n",
       "        [251, 251, 250],\n",
       "        [246, 249, 248],\n",
       "        [128, 133, 132]],\n",
       "\n",
       "       ...,\n",
       "\n",
       "       [[143, 140, 143],\n",
       "        [245, 247, 247],\n",
       "        [242, 250, 250],\n",
       "        ...,\n",
       "        [193, 193, 193],\n",
       "        [198, 198, 198],\n",
       "        [120, 120, 120]],\n",
       "\n",
       "       [[127, 123, 123],\n",
       "        [250, 249, 250],\n",
       "        [250, 253, 251],\n",
       "        ...,\n",
       "        [181, 181, 181],\n",
       "        [188, 188, 188],\n",
       "        [132, 132, 132]],\n",
       "\n",
       "       [[135, 128, 125],\n",
       "        [134, 129, 125],\n",
       "        [133, 128, 126],\n",
       "        ...,\n",
       "        [128, 128, 128],\n",
       "        [128, 128, 128],\n",
       "        [128, 128, 128]]], dtype=uint8)"
      ]
     },
     "execution_count": 49,
     "metadata": {},
     "output_type": "execute_result"
    }
   ],
   "source": [
    "img_7mvp + img_edct"
   ]
  },
  {
   "cell_type": "code",
   "execution_count": 50,
   "metadata": {},
   "outputs": [
    {
     "data": {
      "text/plain": [
       "(25, 64, 3)"
      ]
     },
     "execution_count": 50,
     "metadata": {},
     "output_type": "execute_result"
    }
   ],
   "source": [
    "img_7mvp.shape"
   ]
  },
  {
   "cell_type": "code",
   "execution_count": 51,
   "metadata": {},
   "outputs": [
    {
     "data": {
      "text/plain": [
       "(25, 64, 3)"
      ]
     },
     "execution_count": 51,
     "metadata": {},
     "output_type": "execute_result"
    }
   ],
   "source": [
    "img_edct.shape"
   ]
  },
  {
   "cell_type": "code",
   "execution_count": 52,
   "metadata": {},
   "outputs": [],
   "source": [
    "# 如果两张图片shape不一样，可以使用resize方法\n",
    "img_edct = cv2.resize(img_edct, (64, 25))"
   ]
  },
  {
   "cell_type": "code",
   "execution_count": 53,
   "metadata": {},
   "outputs": [
    {
     "data": {
      "text/plain": [
       "(25, 64, 3)"
      ]
     },
     "execution_count": 53,
     "metadata": {},
     "output_type": "execute_result"
    }
   ],
   "source": [
    "img_edct.shape"
   ]
  },
  {
   "cell_type": "code",
   "execution_count": 54,
   "metadata": {},
   "outputs": [
    {
     "data": {
      "text/plain": [
       "<matplotlib.image.AxesImage at 0x7f676e4b1950>"
      ]
     },
     "execution_count": 54,
     "metadata": {},
     "output_type": "execute_result"
    },
    {
     "data": {
      "image/png": "[encoded data removed]",
      "text/plain": [
       "<Figure size 432x288 with 1 Axes>"
      ]
     },
     "metadata": {
      "needs_background": "light"
     },
     "output_type": "display_data"
    }
   ],
   "source": [
    "res = cv2.resize(img, (0, 0), fx=3, fy=1)\n",
    "plt.imshow(res)"
   ]
  },
  {
   "cell_type": "code",
   "execution_count": 58,
   "metadata": {},
   "outputs": [
    {
     "data": {
      "text/plain": [
       "<matplotlib.image.AxesImage at 0x7f676e9ca710>"
      ]
     },
     "execution_count": 58,
     "metadata": {},
     "output_type": "execute_result"
    },
    {
     "data": {
      "image/png": "[encoded data removed]",
      "text/plain": [
       "<Figure size 432x288 with 1 Axes>"
      ]
     },
     "metadata": {
      "needs_background": "light"
     },
     "output_type": "display_data"
    }
   ],
   "source": [
    "# 公式 res = ax + by + c\n",
    "res = cv2.addWeighted(img_7mvp, 0.9, img_edct, 0.4, 0)\n",
    "plt.imshow(res)"
   ]
  },
  {
   "cell_type": "markdown",
   "metadata": {},
   "source": [
    "### 图像阈值"
   ]
  },
  {
   "cell_type": "markdown",
   "metadata": {},
   "source": [
    "#### res, dst = dv2.threshold(src, thresh, maxval, type)\n",
    "- src: 输入图，只能输入单通道图像，通常来说为灰度图\n",
    "- dst: 输出图\n",
    "- thresh: 阈值\n",
    "- maxval: 当像素超过了阈值(或者小于阈值，根据type来决定)，所赋予的至\n",
    "- type: 二值化操作的类型，包含一下5种类型\n",
    "    - cv2.THRESH_BINARY, 超过阈值部分去maxval最大值，否则取0\n",
    "    - cv2.THRESH_BINARY_INV，BINARY的反转\n",
    "    - cv2.THRESH_THRESH_TRUNC, 超过阈值的部分设为阈值，否则不变\n",
    "    - cv2.THRESH_TOZERO，超过阈值的部分不改变，否则设为0\n",
    "    - cv2.THRESH_TOZERO_INV，TOZERO的反转"
   ]
  },
  {
   "cell_type": "code",
   "execution_count": 63,
   "metadata": {},
   "outputs": [
    {
     "data": {
      "text/plain": [
       "array([[[220, 176, 183],\n",
       "        [238, 202, 208],\n",
       "        [196, 180, 181],\n",
       "        [188, 186, 185],\n",
       "        [196, 205, 202]],\n",
       "\n",
       "       [[224, 192, 197],\n",
       "        [255, 237, 241],\n",
       "        [255, 255, 254],\n",
       "        [185, 192, 189],\n",
       "        [225, 239, 235]],\n",
       "\n",
       "       [[197, 191, 192],\n",
       "        [253, 255, 255],\n",
       "        [239, 255, 255],\n",
       "        [234, 255, 255],\n",
       "        [196, 216, 211]],\n",
       "\n",
       "       [[178, 186, 185],\n",
       "        [189, 206, 203],\n",
       "        [222, 254, 249],\n",
       "        [217, 251, 245],\n",
       "        [237, 255, 254]],\n",
       "\n",
       "       [[188, 202, 200],\n",
       "        [224, 245, 242],\n",
       "        [151, 185, 179],\n",
       "        [174, 206, 201],\n",
       "        [241, 255, 255]]], dtype=uint8)"
      ]
     },
     "execution_count": 63,
     "metadata": {},
     "output_type": "execute_result"
    }
   ],
   "source": [
    "img_7mvp[:5, :5, ]"
   ]
  },
  {
   "cell_type": "code",
   "execution_count": 66,
   "metadata": {},
   "outputs": [
    {
     "data": {
      "image/png": "[encoded data removed]",
      "text/plain": [
       "<Figure size 432x288 with 6 Axes>"
      ]
     },
     "metadata": {},
     "output_type": "display_data"
    }
   ],
   "source": [
    "ret, thresh1 = cv2.threshold(img_7mvp, 127, 255, cv2.THRESH_BINARY)\n",
    "ret, thresh2 = cv2.threshold(img_7mvp, 127, 255, cv2.THRESH_BINARY_INV)\n",
    "ret, thresh3 = cv2.threshold(img_7mvp, 127, 255, cv2.THRESH_TRUNC)\n",
    "ret, thresh4 = cv2.threshold(img_7mvp, 127, 255, cv2.THRESH_TOZERO)\n",
    "ret, thresh5 = cv2.threshold(img_7mvp, 127, 255, cv2.THRESH_TOZERO_INV)\n",
    "\n",
    "titles = ['orginal', 'binary', 'binary_inv', 'trunc', 'tozero', 'tozero_inv']\n",
    "images = [img_7mvp,thresh1, thresh2, thresh3, thresh4, thresh5]\n",
    "\n",
    "for i in range(6):\n",
    "    plt.subplot(2, 3, i + 1),\n",
    "    plt.imshow(images[i], 'gray')\n",
    "    plt.title(titles[i])\n",
    "    plt.xticks([]),\n",
    "    plt.yticks([])\n",
    "    \n",
    "plt.show()"
   ]
  },
  {
   "cell_type": "code",
   "execution_count": null,
   "metadata": {},
   "outputs": [],
   "source": []
  },
  {
   "cell_type": "code",
   "execution_count": null,
   "metadata": {},
   "outputs": [],
   "source": []
  }
 ],
 "metadata": {
  "kernelspec": {
   "display_name": "Python 3",
   "language": "python",
   "name": "python3"
  },
  "language_info": {
   "codemirror_mode": {
    "name": "ipython",
    "version": 3
   },
   "file_extension": ".py",
   "mimetype": "text/x-python",
   "name": "python",
   "nbconvert_exporter": "python",
   "pygments_lexer": "ipython3",
   "version": "3.7.4"
  }
 },
 "nbformat": 4,
 "nbformat_minor": 2
}

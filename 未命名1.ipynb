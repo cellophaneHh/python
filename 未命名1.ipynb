{
 "cells": [
  {
   "cell_type": "code",
   "execution_count": 8,
   "metadata": {},
   "outputs": [
    {
     "name": "stdout",
     "output_type": "stream",
     "text": [
      "b'dGhpcyBpcyDlkbXlkbU='\n"
     ]
    }
   ],
   "source": [
    "import base64\n",
    "content = 'this is 呵呵'.encode('utf-8')\n",
    "data_enc = base64.b64encode(content)\n",
    "print(data_enc)"
   ]
  },
  {
   "cell_type": "code",
   "execution_count": 10,
   "metadata": {},
   "outputs": [
    {
     "name": "stdout",
     "output_type": "stream",
     "text": [
      "b'dGhpcyBpcyDlkbXlkbU=\\n'\n"
     ]
    }
   ],
   "source": [
    "print(base64.encodebytes(content))"
   ]
  },
  {
   "cell_type": "code",
   "execution_count": 11,
   "metadata": {},
   "outputs": [
    {
     "name": "stdout",
     "output_type": "stream",
     "text": [
      "b'this is \\xe5\\x91\\xb5\\xe5\\x91\\xb5'\n"
     ]
    }
   ],
   "source": [
    "print(base64.decodebytes(base64.encodebytes(content)))"
   ]
  },
  {
   "cell_type": "code",
   "execution_count": 12,
   "metadata": {},
   "outputs": [
    {
     "name": "stdout",
     "output_type": "stream",
     "text": [
      "this is 呵呵\n"
     ]
    }
   ],
   "source": [
    "print(str(b'this is \\xe5\\x91\\xb5\\xe5\\x91\\xb5', 'utf-8'))"
   ]
  },
  {
   "cell_type": "code",
   "execution_count": 13,
   "metadata": {},
   "outputs": [
    {
     "name": "stdout",
     "output_type": "stream",
     "text": [
      "b'this is \\xe5\\x91\\xb5\\xe5\\x91\\xb5'\n"
     ]
    }
   ],
   "source": [
    "print(content)"
   ]
  },
  {
   "cell_type": "code",
   "execution_count": null,
   "metadata": {},
   "outputs": [],
   "source": []
  }
 ],
 "metadata": {
  "kernelspec": {
   "display_name": "Python 3",
   "language": "python",
   "name": "python3"
  },
  "language_info": {
   "codemirror_mode": {
    "name": "ipython",
    "version": 3
   },
   "file_extension": ".py",
   "mimetype": "text/x-python",
   "name": "python",
   "nbconvert_exporter": "python",
   "pygments_lexer": "ipython3",
   "version": "3.6.6"
  }
 },
 "nbformat": 4,
 "nbformat_minor": 2
}

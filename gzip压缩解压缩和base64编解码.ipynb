{
 "cells": [
  {
   "cell_type": "code",
   "execution_count": 1,
   "metadata": {},
   "outputs": [
    {
     "name": "stdout",
     "output_type": "stream",
     "text": [
      "b'\\x1f\\x8b\\x08\\x00\\r\\xde+]\\x02\\xff{\\xb6\\xb5\\xfb\\xc5\\xfa\\xa9O\\xd7N\\x7f\\xbef\\xd9\\x93\\x1d\\x9bt2Rsr\\xf2\\x013_E9\\x15\\x00\\x00\\x00'\n"
     ]
    }
   ],
   "source": [
    "import gzip\n",
    "import base64\n",
    "raw_content = \"测试字符串,hello\"\n",
    "compressed_content = gzip.compress(raw_content.encode('utf-8'))\n",
    "print(compressed_content)"
   ]
  },
  {
   "cell_type": "code",
   "execution_count": 2,
   "metadata": {},
   "outputs": [
    {
     "name": "stdout",
     "output_type": "stream",
     "text": [
      "b'H4sIAA3eK10C/3u2tfvF+qlP105/vmbZkx2bdDJSc3LyATNfRTkVAAAA'\n"
     ]
    }
   ],
   "source": [
    "b64_content = base64.b64encode(compressed_content)\n",
    "print(b64_content)\n"
   ]
  },
  {
   "cell_type": "code",
   "execution_count": 3,
   "metadata": {},
   "outputs": [
    {
     "name": "stdout",
     "output_type": "stream",
     "text": [
      "b'H4sIAA3eK10C/3u2tfvF+qlP105/vmbZkx2bdDJSc3LyATNfRTkVAAAA'\n"
     ]
    }
   ],
   "source": [
    "b64_str_content = str(b64_content)\n",
    "print(b64_str_content)"
   ]
  },
  {
   "cell_type": "code",
   "execution_count": 4,
   "metadata": {},
   "outputs": [
    {
     "name": "stdout",
     "output_type": "stream",
     "text": [
      "H4sIAA3eK10C/3u2tfvF+qlP105/vmbZkx2bdDJSc3LyATNfRTkVAAAA\n"
     ]
    }
   ],
   "source": [
    "b64_str_content = b64_content.decode()\n",
    "print(b64_str_content)"
   ]
  },
  {
   "cell_type": "code",
   "execution_count": 5,
   "metadata": {},
   "outputs": [
    {
     "ename": "TypeError",
     "evalue": "decode() missing 1 required positional argument: 'output'",
     "output_type": "error",
     "traceback": [
      "\u001b[1;31m---------------------------------------------------------------------------\u001b[0m",
      "\u001b[1;31mTypeError\u001b[0m                                 Traceback (most recent call last)",
      "\u001b[1;32m<ipython-input-5-e4a2004662b8>\u001b[0m in \u001b[0;36m<module>\u001b[1;34m\u001b[0m\n\u001b[1;32m----> 1\u001b[1;33m \u001b[0mprint\u001b[0m\u001b[1;33m(\u001b[0m\u001b[0mbase64\u001b[0m\u001b[1;33m.\u001b[0m\u001b[0mdecode\u001b[0m\u001b[1;33m(\u001b[0m\u001b[0mb64_str_content\u001b[0m\u001b[1;33m.\u001b[0m\u001b[0mencode\u001b[0m\u001b[1;33m(\u001b[0m\u001b[1;33m)\u001b[0m\u001b[1;33m)\u001b[0m\u001b[1;33m)\u001b[0m\u001b[1;33m\u001b[0m\u001b[0m\n\u001b[0m",
      "\u001b[1;31mTypeError\u001b[0m: decode() missing 1 required positional argument: 'output'"
     ]
    }
   ],
   "source": [
    "print(base64.decode(b64_str_content.encode()))"
   ]
  },
  {
   "cell_type": "code",
   "execution_count": 6,
   "metadata": {},
   "outputs": [
    {
     "name": "stdout",
     "output_type": "stream",
     "text": [
      "b'\\x1f\\x8b\\x08\\x00\\r\\xde+]\\x02\\xff{\\xb6\\xb5\\xfb\\xc5\\xfa\\xa9O\\xd7N\\x7f\\xbef\\xd9\\x93\\x1d\\x9bt2Rsr\\xf2\\x013_E9\\x15\\x00\\x00\\x00'\n"
     ]
    }
   ],
   "source": [
    "b64_byte_content = base64.b64decode(b64_str_content.encode())\n",
    "print(b64_byte_content)"
   ]
  },
  {
   "cell_type": "code",
   "execution_count": 8,
   "metadata": {},
   "outputs": [
    {
     "name": "stdout",
     "output_type": "stream",
     "text": [
      "b'\\xe6\\xb5\\x8b\\xe8\\xaf\\x95\\xe5\\xad\\x97\\xe7\\xac\\xa6\\xe4\\xb8\\xb2,hello'\n"
     ]
    }
   ],
   "source": [
    "result_bytes = gzip.decompress(b64_byte_content)\n",
    "print(result_bytes)"
   ]
  },
  {
   "cell_type": "code",
   "execution_count": 9,
   "metadata": {},
   "outputs": [
    {
     "name": "stdout",
     "output_type": "stream",
     "text": [
      "测试字符串,hello\n"
     ]
    }
   ],
   "source": [
    "print(str(result_bytes, 'utf-8'))"
   ]
  },
  {
   "cell_type": "code",
   "execution_count": null,
   "metadata": {},
   "outputs": [],
   "source": []
  }
 ],
 "metadata": {
  "kernelspec": {
   "display_name": "Python 3",
   "language": "python",
   "name": "python3"
  },
  "language_info": {
   "codemirror_mode": {
    "name": "ipython",
    "version": 3
   },
   "file_extension": ".py",
   "mimetype": "text/x-python",
   "name": "python",
   "nbconvert_exporter": "python",
   "pygments_lexer": "ipython3",
   "version": "3.6.6"
  }
 },
 "nbformat": 4,
 "nbformat_minor": 2
}
